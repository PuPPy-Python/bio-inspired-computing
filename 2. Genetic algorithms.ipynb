{
 "cells": [
  {
   "cell_type": "markdown",
   "metadata": {
    "slideshow": {
     "slide_type": "slide"
    }
   },
   "source": [
    "# Genetic Algorithms\n",
    "\n",
    "### A whirlwind tour of bio-inspired computing algorithms\n",
    "\n",
    "#### Quentin Caudron"
   ]
  },
  {
   "cell_type": "markdown",
   "metadata": {
    "collapsed": true,
    "slideshow": {
     "slide_type": "subslide"
    }
   },
   "source": [
    "[Genetic algorithms](https://en.wikipedia.org/wiki/Genetic_algorithm), famously described as \"the second-best method for all optimisation problems\", are flexible and powerful, despite a potentially high computational cost and various quirks. They are good when the space of solutions is enormous, and the space cannot be searched; they allow all sorts of constraints and generative models, which may lead to a problem where traversal of parameter space may be difficult or impossible to other optimisation methods."
   ]
  },
  {
   "cell_type": "markdown",
   "metadata": {
    "slideshow": {
     "slide_type": "slide"
    }
   },
   "source": [
    "### The inspiration\n",
    "\n",
    "The general philosophy behind genetic algorithms is rooted in [natural selection](https://en.wikipedia.org/wiki/Natural_selection). As with many things biological, context is important, so here we'll describe one particular implementation of a genetic algorithm.\n",
    "\n",
    "We begin with a population of possible solutions to a problem. Solutions are treated as individual living things : the parameters which make up the solution are the solution's \"genome\", and this genome determines the \"fitness\" of the solution. In discrete time, solutions come together in pairs to reproduce, and their children inherit the attributes of their parents."
   ]
  },
  {
   "cell_type": "code",
   "execution_count": 1,
   "metadata": {
    "collapsed": true,
    "slideshow": {
     "slide_type": "skip"
    }
   },
   "outputs": [],
   "source": [
    "from time import time\n",
    "import numpy as np\n",
    "from multiprocessing import Pool\n",
    "import matplotlib.pyplot as plt\n",
    "%matplotlib inline\n",
    "import seaborn as sns\n",
    "from tqdm import tnrange\n",
    "C = sns.color_palette(\"deep\", 8)"
   ]
  },
  {
   "cell_type": "code",
   "execution_count": 31,
   "metadata": {
    "slideshow": {
     "slide_type": "skip"
    }
   },
   "outputs": [],
   "source": [
    "def fitness(individual, target):\n",
    "    \"\"\"Loss function - in this case, the L2 norm.\"\"\"\n",
    "    error0 = np.sum((objective(individual) - objective(target))**2)\n",
    "    #error1 = np.sum((np.diff(objective(individual)) - np.diff(objective(target)))**2)\n",
    "    return error0 #+ error1 / 2\n",
    "\n",
    "def fitness_wrapper(args):\n",
    "    return fitness(*args)\n",
    "\n",
    "def initialise(N, domain):\n",
    "    \"\"\"Initialise a population of random individuals.\"\"\"\n",
    "    return np.concatenate([np.random.uniform(d[0], d[1], (N, 1)) for d in domain], axis=1)\n",
    "\n",
    "def selection(population, fraction, target, how=\"best\"):\n",
    "    \"\"\"Perform selection on the population.\n",
    "    If <how> is \"best\", return the <fraction> of the population with the \n",
    "    highest fitness. If <how> is \"linear\" or \"exp\", select individuals\n",
    "    probabilistically proportional to their fitness or its exponential, respectively.\n",
    "    \"\"\"\n",
    "    \n",
    "    fitnesses = np.array(pool.map(fitness_wrapper, [(p, target) for p in population]))\n",
    "    #fitnesses = np.array([fitness(individual, target) for individual in population])\n",
    "    \n",
    "    if how == \"best\":\n",
    "        sorted_by_fitness = np.argsort(fitnesses)\n",
    "        return population[sorted_by_fitness[:int(len(population)*fraction)]]\n",
    "    else:\n",
    "        raise NotImplementedError\n",
    "        \n",
    "def crossover(selected, desired_population_size):\n",
    "    \"\"\"Perform genetic crossover of the selected individuals.\"\"\"\n",
    "    \n",
    "    # Select pairs of parents from the selected individuals\n",
    "    parent_pairs = np.random.randint(0, len(selected), (desired_population_size, 2))\n",
    "    \n",
    "    # For each pair of parents, select from which parent will come each gene\n",
    "    genotype_from_idx = np.random.randint(0, 2, (desired_population_size, len(selected[0])))\n",
    "    \n",
    "    # Perform crossover\n",
    "    offspring = np.zeros((desired_population_size, len(selected[0])))\n",
    "    genome_combinations = selected[parent_pairs]\n",
    "    for idx, genomes in enumerate(zip(genome_combinations, genotype_from_idx)):\n",
    "        parents, genes = genomes\n",
    "        offspring[idx] = [parents[gene][i] for i, gene in enumerate(genes)]\n",
    "        \n",
    "    return np.array(offspring)\n",
    "\n",
    "def mutation(offspring, mutation_rate, constraints=None):\n",
    "    \"\"\"Mutate genotypes slightly.\"\"\"\n",
    "    \n",
    "    mutated = offspring + np.random.normal(0, mutation_rate * offspring.std(0), ((len(offspring), len(offspring[0]))))\n",
    "    \n",
    "    if constraints:\n",
    "        for idx, constraint in enumerate(constraints):\n",
    "            if constraint is not None:\n",
    "                if np.any(mutated[:, idx] < constraint[0]):\n",
    "                    loc = np.where(mutated[:, idx] < constraint[0])[0]\n",
    "                    mutated[loc, idx] = constraint[0]\n",
    "                if np.any(mutated[:, idx] > constraint[1]):\n",
    "                    loc = np.where(mutated[:, idx] > constraint[1])[0]\n",
    "                    mutated[loc, idx] = constraint[1]\n",
    "                    \n",
    "    return mutated\n",
    "\n",
    "def advance_generation(population, selection_rate, target, mutation_rate, constraints):\n",
    "    \n",
    "    selected = selection(population, selection_rate, target)\n",
    "    offspring = crossover(selected, len(population))\n",
    "    population = mutation(offspring, mutation_rate, constraints)\n",
    "    \n",
    "    return population\n",
    "\n",
    "def plot_genetic_algorithm(N, generations, selection_rate, mutation_rate, target, domain, constraints, tolerance):\n",
    "    \n",
    "    plt.figure(figsize=(12, 12))\n",
    "\n",
    "    population = initialise(N, domain)\n",
    "    target_vector = objective(target)\n",
    "\n",
    "    plt.subplot2grid((4, len(domain)), (0, 0), colspan=len(domain))\n",
    "    plt.plot(objective(target), lw=5)\n",
    "    subsample = np.random.choice(N, min(200, N), replace=False)\n",
    "    for i in population[subsample]:\n",
    "        plt.plot(objective(i), c=C[2], alpha=20/len(subsample))\n",
    "    plt.title(\"Initialisation of the population\")\n",
    "    plt.xlim(0, len(target_vector))\n",
    "\n",
    "\n",
    "    plt.subplot2grid((4, len(domain)), (1, 0), colspan=len(domain))\n",
    "    means = []\n",
    "    errors = []\n",
    "    for i in tnrange(generations):\n",
    "\n",
    "        population = advance_generation(population, selection_rate, target, mutation_rate, constraints)\n",
    "\n",
    "        # Log convergence information\n",
    "        means.append(population.mean(0))\n",
    "        errors.append(np.sum((objective(means[-1]) - target_vector)**2))\n",
    "        \n",
    "        if errors[-1] < tolerance:\n",
    "            break\n",
    "\n",
    "    plt.plot(objective(target), lw=10, alpha=0.5)\n",
    "    subsample = np.random.choice(N, min(200, N), replace=False)\n",
    "    for i in population[subsample]:\n",
    "        plt.plot(objective(i), c=C[2], alpha=20/len(subsample))\n",
    "    plt.title(\"After {} generations\".format(len(errors)))\n",
    "    plt.xlim(0, len(target_vector))\n",
    "\n",
    "\n",
    "    for i in range(len(domain)):\n",
    "        plt.subplot2grid((4, len(domain)), (2, i))\n",
    "        plt.title(\"Parameter {}\".format(i))\n",
    "        plt.plot(np.array(means)[:, i], lw=3, c=C[i % len(C)])\n",
    "        plt.axhline(target[i], ls=\"--\", c=C[i % len(C)])\n",
    "        #plt.legend(list(range(len(population[0]))))\n",
    "        plt.xlim(0, len(errors) * 1.2)\n",
    "\n",
    "    \n",
    "    plt.subplot2grid((4, len(domain)), (3, 0), colspan=len(domain))\n",
    "    plt.title(\"Error\")\n",
    "    plt.semilogy(np.array(errors), lw=3)\n",
    "    plt.xlim(0, len(errors)-1)\n",
    "\n",
    "\n",
    "    plt.tight_layout()\n",
    "    \n",
    "    return population.mean(0)\n",
    "\n",
    "pool = Pool(8)"
   ]
  },
  {
   "cell_type": "code",
   "execution_count": 34,
   "metadata": {},
   "outputs": [
    {
     "data": {
      "text/plain": [
       "[<matplotlib.lines.Line2D at 0x113feb2b0>]"
      ]
     },
     "execution_count": 34,
     "metadata": {},
     "output_type": "execute_result"
    },
    {
     "data": {
      "image/png": "[encoded data removed]",
      "text/plain": [
       "<matplotlib.figure.Figure at 0x114543828>"
      ]
     },
     "metadata": {},
     "output_type": "display_data"
    }
   ],
   "source": [
    "def objective(parameters):\n",
    "    \"\"\"Target function.\"\"\"\n",
    "    a, b, c, d, e = parameters\n",
    "    t = np.linspace(0, 2 * np.pi, 200)\n",
    "    return a * np.sin(e * t + b) * np.exp(d * t) + c\n",
    "\n",
    "target = [1, 2, 3, -0.3, 8]\n",
    "\n",
    "plt.plot(objective(target), lw=3)"
   ]
  },
  {
   "cell_type": "code",
   "execution_count": null,
   "metadata": {
    "collapsed": true
   },
   "outputs": [],
   "source": [
    "N = 10000\n",
    "generations = 100\n",
    "\n",
    "selection_rate = 250 / N\n",
    "mutation_rate = 0.5\n",
    "tolerance = 1e-5\n",
    "\n",
    "domain = [(-5, 20), (0, 8), (0, 200), (-1, 0), (-5, 10)]\n",
    "\n",
    "constraints = domain\n",
    "constraints[1] = (1, 3)\n",
    "\n",
    "pop = plot_genetic_algorithm(N, generations, selection_rate, mutation_rate, target, domain, None, tolerance)"
   ]
  },
  {
   "cell_type": "code",
   "execution_count": null,
   "metadata": {
    "collapsed": true
   },
   "outputs": [],
   "source": [
    "def objective(parameters):\n",
    "    \"\"\"Target function.\"\"\"\n",
    "    a, b, c, d, e = parameters\n",
    "    t = np.linspace(0, 2 * np.pi, 200)\n",
    "    return a * np.sin(e * t + b) * np.exp(d * t) + c\n",
    "\n",
    "target = [1, 2, 3, -0.3, 8]\n",
    "\n",
    "plt.plot(objective(target), lw=3)"
   ]
  }
 ],
 "metadata": {
  "celltoolbar": "Slideshow",
  "kernelspec": {
   "display_name": "Python 3",
   "language": "python",
   "name": "python3"
  },
  "language_info": {
   "codemirror_mode": {
    "name": "ipython",
    "version": 3
   },
   "file_extension": ".py",
   "mimetype": "text/x-python",
   "name": "python",
   "nbconvert_exporter": "python",
   "pygments_lexer": "ipython3",
   "version": "3.6.0"
  }
 },
 "nbformat": 4,
 "nbformat_minor": 2
}
